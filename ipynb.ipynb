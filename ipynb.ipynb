{
 "cells": [
  {
   "cell_type": "code",
   "execution_count": 55,
   "id": "1529e77e",
   "metadata": {},
   "outputs": [],
   "source": [
    "from langchain_ollama import OllamaLLM\n",
    "import pandas as pd\n",
    "import fitz\n",
    "import os\n",
    "import json"
   ]
  },
  {
   "cell_type": "code",
   "execution_count": 6,
   "id": "e2fbf64c",
   "metadata": {},
   "outputs": [],
   "source": [
    "llm = OllamaLLM(model=\"llama3.2\")\n",
    "data = pd.read_csv(\"./data/job_description.csv\", dtype=\"bytes\")\n",
    "data.drop(columns=data.columns[-1], inplace=True)"
   ]
  },
  {
   "cell_type": "code",
   "execution_count": null,
   "id": "ce77f4ee",
   "metadata": {},
   "outputs": [],
   "source": [
    "JDs = [\n",
    "    'Role Title: Software Engineer\\n\\nRequired Skills:\\n- Proficiency in programming languages\\n- Experience with databases\\n- Web development and software frameworks\\n- Problem-solving skills\\n- Attention to detail\\n\\nPreferred Experience:\\nNone specified',\n",
    "    \"Role Title: Data Scientist\\nRequired Skills: \\n- Bachelor's or Master's degree in Data Science, Computer Science, or a related field\\n- Proficiency in Python, R, SQL, and machine learning frameworks\\n- Experience with data visualization tools like Tableau or Power BI\\nStrong analytical and problem-solving skills\\n\\nPreferred Experience: None mentioned\",\n",
    "    'Role Title: Product Manager\\n\\nRequired Skills:\\n- Analytical skills\\n- Leadership skills\\n- Communication skills\\n- Familiarity with project management tools\\n- Data-driven decision making\\n- Agile methodologies\\n- Market research\\n\\nPreferred Experience:\\n- Experience in product management\\n- Knowledge of a related field (Business, Computer Science)\\n\\nKey Responsibilities:\\n- Define product vision and strategy\\n- Collaborate with cross-functional teams\\n- Analyze user feedback and data\\n- Prioritize features and create roadmaps\\n- Ensure alignment between business goals and product development',\n",
    "    \"Role Title: Cloud Engineer\\nRequired Skills:\\n- Bachelor's degree in Computer Science, IT, or related field\\n- Experience with cloud platforms like AWS, Azure, or Google Cloud\\n- Proficiency in infrastructure-as-code (Terraform, CloudFormation)\\n- Strong scripting skills in Python, Bash, or PowerShell\\nPreferred Experience: None listed\",\n",
    "    \"Role Title: Cybersecurity Analyst\\nRequired Skills:\\nBachelor's degree in Cybersecurity, Computer Science, or related field\\nExperience with security tools like SIEM, firewalls, and intrusion detection systems\\nKnowledge of network security, encryption, and risk management\\nStrong analytical and problem-solving skills\\nCertifications like CEH, CISSP, or CompTIA Security+ (preferred)\\n\\nPreferred Experience:\\nNone specified\",\n",
    "    'Role Title: Machine Learning Engineer\\nRequired Skills: \\nPython, TensorFlow, PyTorch, Scikit-learn, Data Preprocessing, Model Deployment, Cloud Platforms\\nPreferred Experience: None specified',\n",
    "    \"Role Title: DevOps Engineer\\nRequired Skills:\\n- Bachelor's degree in Computer Science, IT, or related field\\n- Proficiency in cloud platforms (AWS, Azure, or Google Cloud)\\n- Experience with containerization (Docker, Kubernetes)\\n- Strong scripting skills (Python, Bash, or PowerShell)\\n- Knowledge of configuration management tools (Ansible, Chef, or Puppet)\\nPreferred Experience:\\n- No specific information provided.\",\n",
    "    \"Role Title: Full Stack Developer\\n\\nRequired Skills:\\n- Proficiency in JavaScript\\n- Familiarity with React\\n- Knowledge of Node.js\\n- Experience with databases (SQL/NoSQL)\\n- Understanding of RESTful APIs\\n- Version control (Git)\\n\\nPreferred Experience:\\nBachelor's degree in Computer Science or related field\",\n",
    "    \"Role Title: Big Data Engineer\\nRequired Skills:\\n- Bachelor's/Masters degree in Computer Science, Data Engineering, or related field\\n- Experience with Hadoop, Spark, Kafka, and distributed computing\\n- Proficiency in SQL, Python, or Scala for data processing\\n- Knowledge of cloud platforms like AWS, Azure, or GCP\\n- Strong problem-solving and analytical skills\\n\\nPreferred Experience:\\nNone specified\",\n",
    "    'Role Title: AI Researcher\\nRequired Skills: \\n  - Ph.D. in AI, Machine Learning, or related field\\n  - Strong programming skills in Python, TensorFlow, or PyTorch\\n  - Experience with research methodologies and model optimization\\n  - Excellent problem-solving and analytical skills\\nPreferred Experience:\\n None mentioned\\n\\nKey Responsibilities: \\n- Conduct research in AI, deep learning, and NLP\\n- Develop and optimize machine learning models\\n- Publish findings in top-tier conferences and journals\\n- Collaborate with cross-functional teams to integrate AI solutions\\n- Stay updated with the latest AI advancements and technologies',\n",
    "]\n",
    "# job_prompt = \"\"\"\n",
    "# Summarize this job description into:\n",
    "# - Role Title\n",
    "# - Required Skills\n",
    "# - Preferred Experience\n",
    "# - Key Responsibilities\n",
    "\n",
    "# Don't give me markup language just plain text\n",
    "# Do not output anything other than the summary\n",
    "# JD: {}\n",
    "# \"\"\"\n",
    "\n",
    "# JDs = []\n",
    "# for jd in data[\"Job Description\"]:\n",
    "#     JDs.append(llm.invoke(job_prompt.format(jd)))\n"
   ]
  },
  {
   "cell_type": "code",
   "execution_count": 16,
   "id": "abc39477",
   "metadata": {},
   "outputs": [],
   "source": [
    "def extract_text_from_pdf(filepath):\n",
    "    text = \"\"\n",
    "    with fitz.open(filepath) as doc:\n",
    "        for page in doc:\n",
    "            text += page.get_text()\n",
    "    return text\n",
    "\n",
    "\n",
    "def extract_resumes(folder_path, num_pdfs):\n",
    "    all_pdfs = {}\n",
    "    count = 0\n",
    "    for filename in os.listdir(folder_path):\n",
    "        count += 1\n",
    "        if count < num_pdfs:\n",
    "            if filename.lower().endswith(\".pdf\"):\n",
    "                filepath = os.path.join(folder_path, filename)\n",
    "                text = extract_text_from_pdf(filepath)\n",
    "                all_pdfs[filename] = text\n",
    "            else:\n",
    "                break\n",
    "    return all_pdfs\n"
   ]
  },
  {
   "cell_type": "code",
   "execution_count": 18,
   "id": "a7744db9",
   "metadata": {},
   "outputs": [],
   "source": [
    "pdfs = extract_resumes(\"./data/CVs1\", 16)"
   ]
  },
  {
   "cell_type": "code",
   "execution_count": 19,
   "id": "6f43e98e",
   "metadata": {},
   "outputs": [
    {
     "data": {
      "text/plain": [
       "{'C8928.pdf': 'Candidate Resume (ID: C8928)\\nName: Christine Howard\\nEmail: christinehoward27@gmail.com\\nPhone: +1-983-5166\\nEducation\\nBachelor of Engineering in Information Technology (2014-2018)\\nConcentrated on database management, networking, and cybersecurity.\\nMaster of Business Administration (2017-2019)\\nFocused on Business Strategy, Financial Analysis, and Operations Management.\\nDiploma in Software Engineering (2013-2015)\\nHands-on experience in full-stack web development and mobile app creation.\\nWork Experience\\nData Scientist at ABC Inc. (2019-2023)\\nBuilt predictive models that enhanced decision-making processes, reducing operational costs by\\n25%.\\nSoftware Engineer at XYZ Corp (2018-2022)\\nDeveloped scalable backend applications, improved system efficiency by 30%, and led agile\\ndevelopment sprints.\\nSkills\\nCybersecurity - Skilled in penetration testing, risk assessment, and securing enterprise networks\\nagainst cyber threats.\\nCertifications\\nCertified Ethical Hacker (CEH) - Demonstrated proficiency in ethical hacking, network security, and\\nvulnerability assessment.\\nAchievements\\nDeveloped an AI chatbot - Built a chatbot that reduced customer support tickets by 40%, enhancing\\nuser experience and efficiency.\\nTech Stack\\nJava, Spring Boot, MySQL, Kafka, Azure DevOps\\n',\n",
       " 'C7831.pdf': 'Candidate Resume (ID: C7831)\\nName: Bailey Lee\\nEmail: baileylee44@gmail.com\\nPhone: +1-508-7050\\nEducation\\nMaster of Science in Data Science (2019-2021)\\nGained expertise in machine learning, big data analytics, and statistical modeling.\\nBachelor of Engineering in Information Technology (2014-2018)\\nConcentrated on database management, networking, and cybersecurity.\\nWork Experience\\nProduct Manager at DEF Ltd. (2017-2021)\\nLed cross-functional teams to develop innovative solutions, increasing product adoption by 40%.\\nSoftware Engineer at XYZ Corp (2018-2022)\\nDeveloped scalable backend applications, improved system efficiency by 30%, and led agile\\ndevelopment sprints.\\nSkills\\nPython & Machine Learning - Proficient in TensorFlow, PyTorch, and Scikit-learn with hands-on\\nexperience in deploying AI solutions.\\nCertifications\\nCertified Ethical Hacker (CEH) - Demonstrated proficiency in ethical hacking, network security, and\\nvulnerability assessment.\\nAchievements\\nPublished a research paper on AI ethics - Contributed to an AI ethics framework adopted by industry\\nleaders, shaping responsible AI development.\\nTech Stack\\nPython, TensorFlow, PyTorch, PostgreSQL, Docker, Kubernetes\\n',\n",
       " 'C3464.pdf': 'Candidate Resume (ID: C3464)\\nName: William Mathis\\nEmail: williammathis33@gmail.com\\nPhone: +1-493-9264\\nEducation\\nPh.D. in Artificial Intelligence (2016-2021)\\nResearch in NLP and Computer Vision, with publications in top-tier conferences.\\nDiploma in Software Engineering (2013-2015)\\nHands-on experience in full-stack web development and mobile app creation.\\nMaster of Science in Data Science (2019-2021)\\nGained expertise in machine learning, big data analytics, and statistical modeling.\\nWork Experience\\nData Scientist at ABC Inc. (2019-2023)\\nBuilt predictive models that enhanced decision-making processes, reducing operational costs by\\n25%.\\nProduct Manager at DEF Ltd. (2017-2021)\\nLed cross-functional teams to develop innovative solutions, increasing product adoption by 40%.\\nSkills\\nCloud Computing - Expert in AWS, Azure, and GCP; implemented scalable cloud architectures for\\nenterprise applications.\\nCertifications\\nAWS Certified Solutions Architect - Validated expertise in designing and deploying scalable AWS\\nsolutions, optimizing performance and security.\\nAchievements\\nDeveloped an AI chatbot - Built a chatbot that reduced customer support tickets by 40%, enhancing\\nuser experience and efficiency.\\nTech Stack\\nC++, OpenCV, Deep Learning, PyTorch, NVIDIA CUDA\\n',\n",
       " 'C5767.pdf': 'Candidate Resume (ID: C5767)\\nName: Christopher Bailey\\nEmail: christopherbailey75@gmail.com\\nPhone: +1-933-4791\\nEducation\\nBachelor of Science in Computer Science (2015-2019)\\nSpecialized in Software Development and AI, with projects in deep learning and cloud computing.\\nWork Experience\\nSoftware Engineer at XYZ Corp (2018-2022)\\nDeveloped scalable backend applications, improved system efficiency by 30%, and led agile\\ndevelopment sprints.\\nSkills\\nPython & Machine Learning - Proficient in TensorFlow, PyTorch, and Scikit-learn with hands-on\\nexperience in deploying AI solutions.\\nCertifications\\nAWS Certified Solutions Architect - Validated expertise in designing and deploying scalable AWS\\nsolutions, optimizing performance and security.\\nAchievements\\nDeveloped an AI chatbot - Built a chatbot that reduced customer support tickets by 40%, enhancing\\nuser experience and efficiency.\\nTech Stack\\nCybersecurity Tools: Metasploit, Wireshark, Burp Suite, Kali Linux\\n',\n",
       " 'C7979.pdf': 'Candidate Resume (ID: C7979)\\nName: Kyle Park\\nEmail: kylepark70@gmail.com\\nPhone: +1-911-6908\\nEducation\\nBachelor of Science in Computer Science (2015-2019)\\nSpecialized in Software Development and AI, with projects in deep learning and cloud computing.\\nWork Experience\\nProduct Manager at DEF Ltd. (2017-2021)\\nLed cross-functional teams to develop innovative solutions, increasing product adoption by 40%.\\nData Scientist at ABC Inc. (2019-2023)\\nBuilt predictive models that enhanced decision-making processes, reducing operational costs by\\n25%.\\nSkills\\nCloud Computing - Expert in AWS, Azure, and GCP; implemented scalable cloud architectures for\\nenterprise applications.\\nCertifications\\nCertified Ethical Hacker (CEH) - Demonstrated proficiency in ethical hacking, network security, and\\nvulnerability assessment.\\nAchievements\\nPublished a research paper on AI ethics - Contributed to an AI ethics framework adopted by industry\\nleaders, shaping responsible AI development.\\nTech Stack\\nJava, Spring Boot, MySQL, Kafka, Azure DevOps\\n',\n",
       " 'C1677.pdf': 'Candidate Resume (ID: C1677)\\nName: Shelley Bartlett\\nEmail: shelleybartlett86@gmail.com\\nPhone: +1-797-5775\\nEducation\\nMaster of Science in Data Science (2019-2021)\\nGained expertise in machine learning, big data analytics, and statistical modeling.\\nPh.D. in Artificial Intelligence (2016-2021)\\nResearch in NLP and Computer Vision, with publications in top-tier conferences.\\nWork Experience\\nData Scientist at ABC Inc. (2019-2023)\\nBuilt predictive models that enhanced decision-making processes, reducing operational costs by\\n25%.\\nSkills\\nPython & Machine Learning - Proficient in TensorFlow, PyTorch, and Scikit-learn with hands-on\\nexperience in deploying AI solutions.\\nCertifications\\nAWS Certified Solutions Architect - Validated expertise in designing and deploying scalable AWS\\nsolutions, optimizing performance and security.\\nAchievements\\nDeveloped an AI chatbot - Built a chatbot that reduced customer support tickets by 40%, enhancing\\nuser experience and efficiency.\\nTech Stack\\nC++, OpenCV, Deep Learning, PyTorch, NVIDIA CUDA\\n',\n",
       " 'C2430.pdf': 'Candidate Resume (ID: C2430)\\nName: Victoria Burton\\nEmail: victoriaburton73@gmail.com\\nPhone: +1-393-5083\\nEducation\\nMaster of Science in Data Science (2019-2021)\\nGained expertise in machine learning, big data analytics, and statistical modeling.\\nWork Experience\\nData Scientist at ABC Inc. (2019-2023)\\nBuilt predictive models that enhanced decision-making processes, reducing operational costs by\\n25%.\\nSkills\\nPython & Machine Learning - Proficient in TensorFlow, PyTorch, and Scikit-learn with hands-on\\nexperience in deploying AI solutions.\\nCertifications\\nAWS Certified Solutions Architect - Validated expertise in designing and deploying scalable AWS\\nsolutions, optimizing performance and security.\\nAchievements\\nPublished a research paper on AI ethics - Contributed to an AI ethics framework adopted by industry\\nleaders, shaping responsible AI development.\\nTech Stack\\nCybersecurity Tools: Metasploit, Wireshark, Burp Suite, Kali Linux\\n',\n",
       " 'C8849.pdf': 'Candidate Resume (ID: C8849)\\nName: Justin Williams\\nEmail: justinwilliams39@gmail.com\\nPhone: +1-871-6094\\nEducation\\nPh.D. in Artificial Intelligence (2016-2021)\\nResearch in NLP and Computer Vision, with publications in top-tier conferences.\\nMaster of Science in Data Science (2019-2021)\\nGained expertise in machine learning, big data analytics, and statistical modeling.\\nBachelor of Science in Computer Science (2015-2019)\\nSpecialized in Software Development and AI, with projects in deep learning and cloud computing.\\nWork Experience\\nProduct Manager at DEF Ltd. (2017-2021)\\nLed cross-functional teams to develop innovative solutions, increasing product adoption by 40%.\\nSoftware Engineer at XYZ Corp (2018-2022)\\nDeveloped scalable backend applications, improved system efficiency by 30%, and led agile\\ndevelopment sprints.\\nSkills\\nPython & Machine Learning - Proficient in TensorFlow, PyTorch, and Scikit-learn with hands-on\\nexperience in deploying AI solutions.\\nCertifications\\nCertified Ethical Hacker (CEH) - Demonstrated proficiency in ethical hacking, network security, and\\nvulnerability assessment.\\nAchievements\\nPublished a research paper on AI ethics - Contributed to an AI ethics framework adopted by industry\\nleaders, shaping responsible AI development.\\nTech Stack\\nJava, Spring Boot, MySQL, Kafka, Azure DevOps\\n',\n",
       " 'C4256.pdf': 'Candidate Resume (ID: C4256)\\nName: Lauren Le\\nEmail: laurenle40@gmail.com\\nPhone: +1-972-2700\\nEducation\\nBachelor of Engineering in Information Technology (2014-2018)\\nConcentrated on database management, networking, and cybersecurity.\\nBachelor of Science in Computer Science (2015-2019)\\nSpecialized in Software Development and AI, with projects in deep learning and cloud computing.\\nWork Experience\\nSoftware Engineer at XYZ Corp (2018-2022)\\nDeveloped scalable backend applications, improved system efficiency by 30%, and led agile\\ndevelopment sprints.\\nProduct Manager at DEF Ltd. (2017-2021)\\nLed cross-functional teams to develop innovative solutions, increasing product adoption by 40%.\\nSkills\\nCloud Computing - Expert in AWS, Azure, and GCP; implemented scalable cloud architectures for\\nenterprise applications.\\nCertifications\\nCertified Ethical Hacker (CEH) - Demonstrated proficiency in ethical hacking, network security, and\\nvulnerability assessment.\\nAchievements\\nDeveloped an AI chatbot - Built a chatbot that reduced customer support tickets by 40%, enhancing\\nuser experience and efficiency.\\nTech Stack\\nC++, OpenCV, Deep Learning, PyTorch, NVIDIA CUDA\\n',\n",
       " 'C3539.pdf': 'Candidate Resume (ID: C3539)\\nName: Kimberly White\\nEmail: kimberlywhite65@gmail.com\\nPhone: +1-722-6171\\nEducation\\nMaster of Business Administration (2017-2019)\\nFocused on Business Strategy, Financial Analysis, and Operations Management.\\nPh.D. in Artificial Intelligence (2016-2021)\\nResearch in NLP and Computer Vision, with publications in top-tier conferences.\\nMaster of Science in Data Science (2019-2021)\\nGained expertise in machine learning, big data analytics, and statistical modeling.\\nWork Experience\\nProduct Manager at DEF Ltd. (2017-2021)\\nLed cross-functional teams to develop innovative solutions, increasing product adoption by 40%.\\nSoftware Engineer at XYZ Corp (2018-2022)\\nDeveloped scalable backend applications, improved system efficiency by 30%, and led agile\\ndevelopment sprints.\\nSkills\\nCybersecurity - Skilled in penetration testing, risk assessment, and securing enterprise networks\\nagainst cyber threats.\\nCertifications\\nAWS Certified Solutions Architect - Validated expertise in designing and deploying scalable AWS\\nsolutions, optimizing performance and security.\\nAchievements\\nDeveloped an AI chatbot - Built a chatbot that reduced customer support tickets by 40%, enhancing\\nuser experience and efficiency.\\nTech Stack\\nJava, Spring Boot, MySQL, Kafka, Azure DevOps\\n',\n",
       " 'C4444.pdf': 'Candidate Resume (ID: C4444)\\nName: Melissa Payne\\nEmail: melissapayne75@gmail.com\\nPhone: +1-674-1261\\nEducation\\nBachelor of Engineering in Information Technology (2014-2018)\\nConcentrated on database management, networking, and cybersecurity.\\nMaster of Science in Data Science (2019-2021)\\nGained expertise in machine learning, big data analytics, and statistical modeling.\\nWork Experience\\nData Scientist at ABC Inc. (2019-2023)\\nBuilt predictive models that enhanced decision-making processes, reducing operational costs by\\n25%.\\nProduct Manager at DEF Ltd. (2017-2021)\\nLed cross-functional teams to develop innovative solutions, increasing product adoption by 40%.\\nSkills\\nPython & Machine Learning - Proficient in TensorFlow, PyTorch, and Scikit-learn with hands-on\\nexperience in deploying AI solutions.\\nCertifications\\nAWS Certified Solutions Architect - Validated expertise in designing and deploying scalable AWS\\nsolutions, optimizing performance and security.\\nAchievements\\nPublished a research paper on AI ethics - Contributed to an AI ethics framework adopted by industry\\nleaders, shaping responsible AI development.\\nTech Stack\\nPython, TensorFlow, PyTorch, PostgreSQL, Docker, Kubernetes\\n',\n",
       " 'C8518.pdf': 'Candidate Resume (ID: C8518)\\nName: Christopher Ross\\nEmail: christopherross57@gmail.com\\nPhone: +1-510-2928\\nEducation\\nDiploma in Software Engineering (2013-2015)\\nHands-on experience in full-stack web development and mobile app creation.\\nMaster of Science in Data Science (2019-2021)\\nGained expertise in machine learning, big data analytics, and statistical modeling.\\nWork Experience\\nData Scientist at ABC Inc. (2019-2023)\\nBuilt predictive models that enhanced decision-making processes, reducing operational costs by\\n25%.\\nSkills\\nCybersecurity - Skilled in penetration testing, risk assessment, and securing enterprise networks\\nagainst cyber threats.\\nCertifications\\nCertified Ethical Hacker (CEH) - Demonstrated proficiency in ethical hacking, network security, and\\nvulnerability assessment.\\nAchievements\\nPublished a research paper on AI ethics - Contributed to an AI ethics framework adopted by industry\\nleaders, shaping responsible AI development.\\nTech Stack\\nC++, OpenCV, Deep Learning, PyTorch, NVIDIA CUDA\\n',\n",
       " 'C4336.pdf': 'Candidate Resume (ID: C4336)\\nName: Nancy Lewis\\nEmail: nancylewis11@gmail.com\\nPhone: +1-705-1071\\nEducation\\nMaster of Science in Data Science (2019-2021)\\nGained expertise in machine learning, big data analytics, and statistical modeling.\\nWork Experience\\nData Scientist at ABC Inc. (2019-2023)\\nBuilt predictive models that enhanced decision-making processes, reducing operational costs by\\n25%.\\nSkills\\nCloud Computing - Expert in AWS, Azure, and GCP; implemented scalable cloud architectures for\\nenterprise applications.\\nCertifications\\nCertified Ethical Hacker (CEH) - Demonstrated proficiency in ethical hacking, network security, and\\nvulnerability assessment.\\nAchievements\\nPublished a research paper on AI ethics - Contributed to an AI ethics framework adopted by industry\\nleaders, shaping responsible AI development.\\nTech Stack\\nC++, OpenCV, Deep Learning, PyTorch, NVIDIA CUDA\\n',\n",
       " 'C1070.pdf': 'Candidate Resume (ID: C1070)\\nName: Scott Saunders\\nEmail: scottsaunders13@gmail.com\\nPhone: +1-367-5130\\nEducation\\nBachelor of Engineering in Information Technology (2014-2018)\\nConcentrated on database management, networking, and cybersecurity.\\nMaster of Business Administration (2017-2019)\\nFocused on Business Strategy, Financial Analysis, and Operations Management.\\nPh.D. in Artificial Intelligence (2016-2021)\\nResearch in NLP and Computer Vision, with publications in top-tier conferences.\\nWork Experience\\nSoftware Engineer at XYZ Corp (2018-2022)\\nDeveloped scalable backend applications, improved system efficiency by 30%, and led agile\\ndevelopment sprints.\\nSkills\\nPython & Machine Learning - Proficient in TensorFlow, PyTorch, and Scikit-learn with hands-on\\nexperience in deploying AI solutions.\\nCertifications\\nAWS Certified Solutions Architect - Validated expertise in designing and deploying scalable AWS\\nsolutions, optimizing performance and security.\\nAchievements\\nDeveloped an AI chatbot - Built a chatbot that reduced customer support tickets by 40%, enhancing\\nuser experience and efficiency.\\nTech Stack\\nPython, TensorFlow, PyTorch, PostgreSQL, Docker, Kubernetes\\n',\n",
       " 'C8730.pdf': 'Candidate Resume (ID: C8730)\\nName: John Gregory\\nEmail: johngregory85@gmail.com\\nPhone: +1-930-1427\\nEducation\\nMaster of Business Administration (2017-2019)\\nFocused on Business Strategy, Financial Analysis, and Operations Management.\\nMaster of Science in Data Science (2019-2021)\\nGained expertise in machine learning, big data analytics, and statistical modeling.\\nWork Experience\\nData Scientist at ABC Inc. (2019-2023)\\nBuilt predictive models that enhanced decision-making processes, reducing operational costs by\\n25%.\\nSkills\\nCloud Computing - Expert in AWS, Azure, and GCP; implemented scalable cloud architectures for\\nenterprise applications.\\nCertifications\\nAWS Certified Solutions Architect - Validated expertise in designing and deploying scalable AWS\\nsolutions, optimizing performance and security.\\nAchievements\\nDeveloped an AI chatbot - Built a chatbot that reduced customer support tickets by 40%, enhancing\\nuser experience and efficiency.\\nTech Stack\\nPython, TensorFlow, PyTorch, PostgreSQL, Docker, Kubernetes\\n'}"
      ]
     },
     "execution_count": 19,
     "metadata": {},
     "output_type": "execute_result"
    }
   ],
   "source": [
    "pdfs"
   ]
  },
  {
   "cell_type": "code",
   "execution_count": 21,
   "id": "9fb99b24",
   "metadata": {},
   "outputs": [
    {
     "data": {
      "text/plain": [
       "['Role Title: Software Engineer\\n\\nRequired Skills:\\n- Proficiency in programming languages\\n- Experience with databases\\n- Web development and software frameworks\\n- Problem-solving skills\\n- Attention to detail\\n\\nPreferred Experience:\\nNone specified',\n",
       " \"Role Title: Data Scientist\\nRequired Skills: \\n- Bachelor's or Master's degree in Data Science, Computer Science, or a related field\\n- Proficiency in Python, R, SQL, and machine learning frameworks\\n- Experience with data visualization tools like Tableau or Power BI\\nStrong analytical and problem-solving skills\\n\\nPreferred Experience: None mentioned\",\n",
       " 'Role Title: Product Manager\\n\\nRequired Skills:\\n- Analytical skills\\n- Leadership skills\\n- Communication skills\\n- Familiarity with project management tools\\n- Data-driven decision making\\n- Agile methodologies\\n- Market research\\n\\nPreferred Experience:\\n- Experience in product management\\n- Knowledge of a related field (Business, Computer Science)\\n\\nKey Responsibilities:\\n- Define product vision and strategy\\n- Collaborate with cross-functional teams\\n- Analyze user feedback and data\\n- Prioritize features and create roadmaps\\n- Ensure alignment between business goals and product development',\n",
       " \"Role Title: Cloud Engineer\\nRequired Skills:\\n- Bachelor's degree in Computer Science, IT, or related field\\n- Experience with cloud platforms like AWS, Azure, or Google Cloud\\n- Proficiency in infrastructure-as-code (Terraform, CloudFormation)\\n- Strong scripting skills in Python, Bash, or PowerShell\\nPreferred Experience: None listed\",\n",
       " \"Role Title: Cybersecurity Analyst\\nRequired Skills:\\nBachelor's degree in Cybersecurity, Computer Science, or related field\\nExperience with security tools like SIEM, firewalls, and intrusion detection systems\\nKnowledge of network security, encryption, and risk management\\nStrong analytical and problem-solving skills\\nCertifications like CEH, CISSP, or CompTIA Security+ (preferred)\\n\\nPreferred Experience:\\nNone specified\",\n",
       " 'Role Title: Machine Learning Engineer\\nRequired Skills: \\nPython, TensorFlow, PyTorch, Scikit-learn, Data Preprocessing, Model Deployment, Cloud Platforms\\nPreferred Experience: None specified',\n",
       " \"Role Title: DevOps Engineer\\nRequired Skills:\\n- Bachelor's degree in Computer Science, IT, or related field\\n- Proficiency in cloud platforms (AWS, Azure, or Google Cloud)\\n- Experience with containerization (Docker, Kubernetes)\\n- Strong scripting skills (Python, Bash, or PowerShell)\\n- Knowledge of configuration management tools (Ansible, Chef, or Puppet)\\nPreferred Experience:\\n- No specific information provided.\",\n",
       " \"Role Title: Full Stack Developer\\n\\nRequired Skills:\\n- Proficiency in JavaScript\\n- Familiarity with React\\n- Knowledge of Node.js\\n- Experience with databases (SQL/NoSQL)\\n- Understanding of RESTful APIs\\n- Version control (Git)\\n\\nPreferred Experience:\\nBachelor's degree in Computer Science or related field\",\n",
       " \"Role Title: Big Data Engineer\\nRequired Skills:\\n- Bachelor's/Masters degree in Computer Science, Data Engineering, or related field\\n- Experience with Hadoop, Spark, Kafka, and distributed computing\\n- Proficiency in SQL, Python, or Scala for data processing\\n- Knowledge of cloud platforms like AWS, Azure, or GCP\\n- Strong problem-solving and analytical skills\\n\\nPreferred Experience:\\nNone specified\",\n",
       " 'Role Title: AI Researcher\\nRequired Skills: \\n  - Ph.D. in AI, Machine Learning, or related field\\n  - Strong programming skills in Python, TensorFlow, or PyTorch\\n  - Experience with research methodologies and model optimization\\n  - Excellent problem-solving and analytical skills\\nPreferred Experience:\\n None mentioned\\n\\nKey Responsibilities: \\n- Conduct research in AI, deep learning, and NLP\\n- Develop and optimize machine learning models\\n- Publish findings in top-tier conferences and journals\\n- Collaborate with cross-functional teams to integrate AI solutions\\n- Stay updated with the latest AI advancements and technologies',\n",
       " \"Role Title: Database Administrator\\nRequired Skills: \\nSQL \\nDatabase Management Systems (MySQL, PostgreSQL, Oracle, or MongoDB)\\nDatabase Security \\nProblem-Solving\\nAnalytical Skills\\nPreferred Experience:\\nBachelor's degree in Computer Science or related field\\nExperience in database security, backups, and optimization\",\n",
       " \"Role Title: Network Engineer\\nRequired Skills: \\nBachelor's degree in Computer Science, IT, or a related field, Strong knowledge of networking protocols (TCP/IP, DNS, DHCP), Proficiency in Cisco, Juniper, or similar networking technologies.\\nPreferred Experience:\\nExperience with firewalls, routers, and enterprise networking, Problem-solving skills and ability to work under pressure.\\nKey Responsibilities: \\nDesign and deploy network solutions for optimal performance, Monitor network health and troubleshoot issues, Implement security measures to protect network integrity, Manage firewalls, routers, switches, and VPNs.\",\n",
       " \"Role Title: Software Architect\\nRequired Skills:\\n- Strong expertise in software design patterns and system architecture\\n- Proficiency in cloud computing, microservices, and DevOps practices\\n- Experience with programming languages (Java, Python, or C++)\\n- Excellent problem-solving and leadership skills\\nPreferred Experience:\\n- Bachelor's/Masters degree in Computer Science or related field\",\n",
       " 'Role Title: Blockchain Developer\\n\\nRequired Skills:\\nComputer Science degree\\nSolidity proficiency\\nBlockchain framework knowledge (Ethereum, Hyperledger)\\nCryptography experience\\nSmart contract development\\nDistributed system knowledge\\n\\nPreferred Experience:\\nNone specified\\n\\nKey Responsibilities:\\n- Develop secure smart contracts and blockchain applications\\n- Optimize blockchain infrastructure for performance and scalability\\n- Integrate blockchain solutions with existing systems\\n- Ensure security and compliance in blockchain implementations',\n",
       " \"Role Title: IT Project Manager\\nRequired Skills:\\n- Leadership\\n- Communication\\n- Problem-solving\\n- Knowledge of Agile, Scrum, and Waterfall methodologies\\n- Bachelor's degree in IT, Computer Science, or related field\\n\\nPreferred Experience: Proven experience in IT project management\\n\\nKey Responsibilities:\\n- Define project scope, goals, and deliverables\\n- Develop and manage project timelines, budgets, and resources\\n- Coordinate between cross-functional teams and stakeholders\\n- Identify and mitigate risks to ensure smooth project execution\\n- Monitor progress and provide regular status updates\",\n",
       " 'Role Title: Business Analyst\\n\\nRequired Skills:\\n- SQL\\n- Power BI\\n- Tableau\\n- Analytical and problem-solving skills\\n- Statistical analysis\\n\\nPreferred Experience: None mentioned']"
      ]
     },
     "execution_count": 21,
     "metadata": {},
     "output_type": "execute_result"
    }
   ],
   "source": [
    "JDs"
   ]
  },
  {
   "cell_type": "code",
   "execution_count": null,
   "id": "d51c38da",
   "metadata": {},
   "outputs": [],
   "source": [
    "Resumes = [\n",
    "    'Name: Christine Howard\\nSkills:\\nCybersecurity - Skilled in penetration testing, risk assessment, and securing enterprise networks against cyber threats.\\nCertifications:\\nCertified Ethical Hacker (CEH) \\nAchievements:\\nDeveloped an AI chatbot \\nTech Stack:\\nJava, Spring Boot, MySQL, Kafka, Azure DevOps\\n\\nEducation:\\nBachelor of Engineering in Information Technology (2014-2018)\\nConcentrated on database management, networking, and cybersecurity.\\nMaster of Business Administration (2017-2019)\\nFocused on Business Strategy, Financial Analysis, and Operations Management.\\nDiploma in Software Engineering (2013-2015)\\nHands-on experience in full-stack web development and mobile app creation.\\n\\nWork Experience:\\nData Scientist at ABC Inc. (2019-2023)\\nBuilt predictive models that enhanced decision-making processes, reducing operational costs by 25%.\\nSoftware Engineer at XYZ Corp (2018-2022)\\nDeveloped scalable backend applications, improved system efficiency by 30%, and led agile development sprints.',\n",
    "    'Name: Bailey Lee\\nSkills \\nPython & Machine Learning \\nCertifications \\nCertified Ethical Hacker (CEH) \\nEducation \\nMaster of Science in Data Science (2019-2021)\\nBachelor of Engineering in Information Technology (2014-2018)\\nWork Experience \\nProduct Manager at DEF Ltd. (2017-2021)\\nSoftware Engineer at XYZ Corp (2018-2022)\\nAchievements \\nPublished a research paper on AI ethics',\n",
    "    'Name: William Mathis\\nSkills:\\nCloud Computing - Expert in AWS, Azure, and GCP; implemented scalable cloud architectures for enterprise applications.\\n\\nWork Experience:\\nData Scientist at ABC Inc. (2019-2023)\\nProduct Manager at DEF Ltd. (2017-2021)\\n\\nEducation:\\nPh.D. in Artificial Intelligence (2016-2021)\\nDiploma in Software Engineering (2013-2015)\\nMaster of Science in Data Science (2019-2021)\\n\\nCertifications:\\nAWS Certified Solutions Architect',\n",
    "    'Name: Christopher Bailey\\nSkills \\nPython & Machine Learning - Proficient in TensorFlow, PyTorch, and Scikit-learn with hands-on\\nexperience in deploying AI solutions.\\nCertifications \\nAWS Certified Solutions Architect - Validated expertise in designing and deploying scalable AWS\\nsolutions, optimizing performance and security.\\n\\nWork Experience \\nSoftware Engineer at XYZ Corp (2018-2022)\\nDeveloped scalable backend applications, improved system efficiency by 30%, and led agile development sprints.\\n\\nEducation \\nBachelor of Science in Computer Science (2015-2019)\\n\\nSpecialized in Software Development and AI, with projects in deep learning and cloud computing.\\n\\nCertifications \\nAWS Certified Solutions Architect - Validated expertise in designing and deploying scalable AWS solutions,\\noptimizing performance and security.\\n\\nAchievements \\nDeveloped an AI chatbot - Built a chatbot that reduced customer support tickets by 40%, enhancing\\nuser experience and efficiency.\\n\\nTech Stack \\nCybersecurity Tools: Metasploit, Wireshark, Burp Suite, Kali Linux',\n",
    "    'Name: Kyle Park\\nSkills:\\nCloud Computing - Expert in AWS, Azure, and GCP; implemented scalable cloud architectures for enterprise applications.\\nCertifications:\\nCertified Ethical Hacker (CEH) \\nEducation:\\nBachelor of Science in Computer Science (2015-2019)\\nSpecialized in Software Development and AI, with projects in deep learning and cloud computing.\\nWork Experience:\\nProduct Manager at DEF Ltd. (2017-2021)\\nData Scientist at ABC Inc. (2019-2023)\\nSkills:\\nTech Stack:\\nJava, Spring Boot, MySQL, Kafka, Azure DevOps',\n",
    "    'Name: Shelley Bartlett\\nSkills\\nPython & Machine Learning \\nAWS Certified Solutions Architect \\nData Scientist \\nC++ \\nOpenCV \\nDeep Learning \\nNVIDIA CUDA \\n\\nEducation\\nMaster of Science in Data Science (2019-2021)\\nPh.D. in Artificial Intelligence (2016-2021)\\n\\nWork Experience\\nData Scientist at ABC Inc. (2019-2023)\\n\\nCertifications\\nAWS Certified Solutions Architect',\n",
    "    'Name: Victoria Burton\\nSkills:\\nPython & Machine Learning - Proficient in TensorFlow, PyTorch, and Scikit-learn with hands-on experience in deploying AI solutions.\\nCertifications:\\nAWS Certified Solutions Architect \\nEducation:\\nMaster of Science in Data Science (2019-2021)\\nGained expertise in machine learning, big data analytics, and statistical modeling.\\n\\nWork Experience:\\nData Scientist at ABC Inc. (2019-2023)\\n\\nAchievements:\\nPublished a research paper on AI ethics - Contributed to an AI ethics framework adopted by industry leaders, shaping responsible AI development.\\nTech Stack:\\nCybersecurity Tools: Metasploit, Wireshark, Burp Suite, Kali Linux',\n",
    "    'Name: Justin Williams\\nSkills\\nPython & Machine Learning \\nCertifications \\nCertified Ethical Hacker (CEH)\\nEducation \\nPh.D. in Artificial Intelligence (2016-2021)\\nMaster of Science in Data Science (2019-2021)\\nBachelor of Science in Computer Science (2015-2019)\\nWork Experience \\nProduct Manager at DEF Ltd. (2017-2021)\\nSoftware Engineer at XYZ Corp (2018-2022)\\nTech Stack \\nJava, Spring Boot, MySQL, Kafka, Azure DevOps',\n",
    "    'Name: Lauren Le\\nSkills:\\nCloud Computing - Expert in AWS, Azure, and GCP; implemented scalable cloud architectures for enterprise applications.\\nCertifications:\\nCertified Ethical Hacker (CEH) \\nAchievements:\\nDeveloped an AI chatbot \\n\\nWork Experience:\\nSoftware Engineer at XYZ Corp (2018-2022)\\nProduct Manager at DEF Ltd. (2017-2021)\\n\\nEducation:\\nBachelor of Engineering in Information Technology (2014-2018)\\nBachelor of Science in Computer Science (2015-2019)\\n\\nTech Stack:\\nC++, OpenCV, Deep Learning, PyTorch, NVIDIA CUDA',\n",
    "    'Name: Kimberly White\\nSkills \\nCybersecurity - Skilled in penetration testing, risk assessment, and securing enterprise networks against cyber threats.\\nAWS Certified Solutions Architect \\nEducation \\nMaster of Business Administration (2017-2019)\\nFocused on Business Strategy, Financial Analysis, and Operations Management.\\nPh.D. in Artificial Intelligence (2016-2021)\\nResearch in NLP and Computer Vision, with publications in top-tier conferences.\\nMaster of Science in Data Science (2019-2021)\\nGained expertise in machine learning, big data analytics, and statistical modeling.\\nWork Experience \\nProduct Manager at DEF Ltd. (2017-2021)\\nLed cross-functional teams to develop innovative solutions, increasing product adoption by 40%.\\nSoftware Engineer at XYZ Corp (2018-2022)\\nDeveloped scalable backend applications, improved system efficiency by 30%, and led agile development sprints.\\nCertifications \\nAWS Certified Solutions Architect'\n",
    "]\n",
    "resume_prompt = \"\"\"\n",
    "Extract the following details from this resume:\n",
    "- Candidate Name\n",
    "- Skills\n",
    "- Work Experience (include job titles and durations)\n",
    "- Education\n",
    "- Certifications (if any)\n",
    "- Contact information (email, phone number anything that can be used to contact them)\n",
    "\n",
    "Do not include any explanation or extra text.\n",
    "Only output the extracted information in plain text.\n",
    "Resume: {}\n",
    "\"\"\"\n",
    "\n",
    "# Resumes = []\n",
    "# for resume in pdfs.values():\n",
    "#     Resumes.append(llm.invoke(resume_prompt.format(resume)))"
   ]
  },
  {
   "cell_type": "code",
   "execution_count": 42,
   "id": "b029baf9",
   "metadata": {},
   "outputs": [],
   "source": [
    "judge_prompt = \"\"\"\n",
    "You are an expert technical recruiter. Analyze how well the candidate fits the given job description. Output a JSON object with:\n",
    "\n",
    "- match_score: A number between 0 and 10 representing overall fit.\n",
    "- matched_skills: List of skills required by the job that are present in the resume.\n",
    "- missing_skills: List of required skills that are not clearly mentioned in the resume.\n",
    "- experience_fit: One of \"Excellent\", \"Good\", \"Fair\", or \"Poor\" based on relevance and years of experience.\n",
    "- education_fit: One of \"Excellent\", \"Good\", \"Fair\", or \"Poor\" based on alignment with the job's education requirements.\n",
    "- overqualification_flag: true if the candidate seems significantly overqualified, false otherwise.\n",
    "- fit_summary: A 2-3 sentence explanation of the fit.\n",
    "\n",
    "Respond with JSON only. No extra text.\n",
    "\n",
    "Job Description:\n",
    "{}\n",
    "\n",
    "Candidate Resume:\n",
    "{}\n",
    "\"\"\""
   ]
  },
  {
   "cell_type": "code",
   "execution_count": 44,
   "id": "70a9cb32",
   "metadata": {},
   "outputs": [
    {
     "data": {
      "text/plain": [
       "'Name: Christine Howard\\nSkills:\\nCybersecurity - Skilled in penetration testing, risk assessment, and securing enterprise networks against cyber threats.\\nCertifications:\\nCertified Ethical Hacker (CEH) \\nAchievements:\\nDeveloped an AI chatbot \\nTech Stack:\\nJava, Spring Boot, MySQL, Kafka, Azure DevOps\\n\\nEducation:\\nBachelor of Engineering in Information Technology (2014-2018)\\nConcentrated on database management, networking, and cybersecurity.\\nMaster of Business Administration (2017-2019)\\nFocused on Business Strategy, Financial Analysis, and Operations Management.\\nDiploma in Software Engineering (2013-2015)\\nHands-on experience in full-stack web development and mobile app creation.\\n\\nWork Experience:\\nData Scientist at ABC Inc. (2019-2023)\\nBuilt predictive models that enhanced decision-making processes, reducing operational costs by 25%.\\nSoftware Engineer at XYZ Corp (2018-2022)\\nDeveloped scalable backend applications, improved system efficiency by 30%, and led agile development sprints.'"
      ]
     },
     "execution_count": 44,
     "metadata": {},
     "output_type": "execute_result"
    }
   ],
   "source": [
    "resume = Resumes[0]\n",
    "resume"
   ]
  },
  {
   "cell_type": "code",
   "execution_count": 46,
   "id": "60b3e0f1",
   "metadata": {},
   "outputs": [
    {
     "data": {
      "text/plain": [
       "'Role Title: Software Engineer\\n\\nRequired Skills:\\n- Proficiency in programming languages\\n- Experience with databases\\n- Web development and software frameworks\\n- Problem-solving skills\\n- Attention to detail\\n\\nPreferred Experience:\\nNone specified'"
      ]
     },
     "execution_count": 46,
     "metadata": {},
     "output_type": "execute_result"
    }
   ],
   "source": [
    "jd = JDs[0]\n",
    "jd"
   ]
  },
  {
   "cell_type": "code",
   "execution_count": 49,
   "id": "ea467cf8",
   "metadata": {},
   "outputs": [],
   "source": [
    "ans = llm.invoke(judge_prompt.format(resume, jd))"
   ]
  },
  {
   "cell_type": "code",
   "execution_count": 58,
   "id": "539a34e7",
   "metadata": {},
   "outputs": [],
   "source": [
    "json_ans = json.loads(ans)"
   ]
  },
  {
   "cell_type": "code",
   "execution_count": 60,
   "id": "a5f6795b",
   "metadata": {},
   "outputs": [],
   "source": [
    "def compute_weighted_score(llm_json):\n",
    "    weights = {\n",
    "        \"match_score\": 0.4,\n",
    "        \"experience_fit\": 0.3,\n",
    "        \"education_fit\": 0.2,\n",
    "        \"overqualification_penalty\": 0.1\n",
    "    }\n",
    "    experience_map = {\"Excellent\": 1.0, \"Good\": 0.75, \"Fair\": 0.5, \"Poor\": 0.25}\n",
    "    education_map = {\"Excellent\": 1.0, \"Good\": 0.75, \"Fair\": 0.5, \"Poor\": 0.25}\n",
    "\n",
    "    score = (\n",
    "        weights[\"match_score\"] * (llm_json[\"match_score\"] / 10) +\n",
    "        weights[\"experience_fit\"] * experience_map[llm_json[\"experience_fit\"]] +\n",
    "        weights[\"education_fit\"] * education_map[llm_json[\"education_fit\"]] -\n",
    "        (weights[\"overqualification_penalty\"] if llm_json[\"overqualification_flag\"] else 0)\n",
    "    )\n",
    "    return round(score, 3)"
   ]
  },
  {
   "cell_type": "code",
   "execution_count": 61,
   "id": "86c78d6c",
   "metadata": {},
   "outputs": [
    {
     "data": {
      "text/plain": [
       "0.59"
      ]
     },
     "execution_count": 61,
     "metadata": {},
     "output_type": "execute_result"
    }
   ],
   "source": [
    "compute_weighted_score(json_ans)"
   ]
  },
  {
   "cell_type": "code",
   "execution_count": null,
   "id": "ee562160",
   "metadata": {},
   "outputs": [],
   "source": []
  },
  {
   "cell_type": "code",
   "execution_count": null,
   "id": "67502483",
   "metadata": {},
   "outputs": [],
   "source": []
  }
 ],
 "metadata": {
  "kernelspec": {
   "display_name": "Python 3",
   "language": "python",
   "name": "python3"
  },
  "language_info": {
   "codemirror_mode": {
    "name": "ipython",
    "version": 3
   },
   "file_extension": ".py",
   "mimetype": "text/x-python",
   "name": "python",
   "nbconvert_exporter": "python",
   "pygments_lexer": "ipython3",
   "version": "3.13.2"
  }
 },
 "nbformat": 4,
 "nbformat_minor": 5
}
